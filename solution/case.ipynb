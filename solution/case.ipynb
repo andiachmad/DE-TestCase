{
 "cells": [
  {
   "cell_type": "code",
   "execution_count": 149,
   "id": "9b23c5d1",
   "metadata": {},
   "outputs": [],
   "source": [
    "import os\n",
    "import glob\n",
    "import json\n",
    "import pandas as pd"
   ]
  },
  {
   "cell_type": "markdown",
   "id": "9b5c9b26",
   "metadata": {},
   "source": [
    "### Load File JSON dari Folder"
   ]
  },
  {
   "cell_type": "code",
   "execution_count": 150,
   "id": "c77862e4",
   "metadata": {},
   "outputs": [],
   "source": [
    "# Mencari file JSON Terlebih dahulu\n",
    "def load_json_files(filepath):\n",
    "    all_files = []\n",
    "    for root, dirs, files in os.walk(filepath):\n",
    "        files = glob.glob(os.path.join(root, '*.json'))\n",
    "        for f in files :\n",
    "            all_files.append(os.path.abspath(f))\n",
    "    \n",
    "    return all_files"
   ]
  },
  {
   "cell_type": "markdown",
   "id": "13b75e0d",
   "metadata": {},
   "source": [
    "### Read File JSON"
   ]
  },
  {
   "cell_type": "code",
   "execution_count": 151,
   "id": "c4c8ecb1",
   "metadata": {},
   "outputs": [],
   "source": [
    "# Membaca isi file dari setiap file JSON \n",
    "def load_json_list_to_df(filelist):\n",
    "    all_records = []\n",
    "    for file in filelist:\n",
    "        with open(file, \"r\") as f:\n",
    "            data = json.load(f)\n",
    "            all_records.append(data)\n",
    "    df = pd.json_normalize(all_records)\n",
    "    if \"ts\" in df.columns:\n",
    "        df = df.sort_values(\"ts\").reset_index(drop=True)\n",
    "    return df"
   ]
  },
  {
   "cell_type": "markdown",
   "id": "ea856add",
   "metadata": {},
   "source": [
    "### 1. Visualize the complete historical table view of each tables in tabular format in stdout (hint: print your table)"
   ]
  },
  {
   "cell_type": "code",
   "execution_count": 152,
   "id": "147af7d9",
   "metadata": {},
   "outputs": [
    {
     "name": "stdout",
     "output_type": "stream",
     "text": [
      "Accounts DataFrame:\n",
      "           id op             ts data.account_id data.name data.address data.phone_number            data.email set.phone_number set.savings_account_id set.address                set.email set.card_id\n",
      "0  a1globalid  c  1577863800000              a1   Anthony     New York          12345678  anthony@somebank.com              NaN                    NaN         NaN                      NaN         NaN\n",
      "1  a1globalid  u  1577865600000             NaN       NaN          NaN               NaN                   NaN         87654321                    NaN         NaN                      NaN         NaN\n",
      "2  a1globalid  u  1577890800000             NaN       NaN          NaN               NaN                   NaN              NaN                    sa1         NaN                      NaN         NaN\n",
      "3  a1globalid  u  1577894400000             NaN       NaN          NaN               NaN                   NaN              NaN                    NaN     Jakarta  anthony@anotherbank.com         NaN\n",
      "4  a1globalid  u  1577926800000             NaN       NaN          NaN               NaN                   NaN              NaN                    NaN         NaN                      NaN          c1\n",
      "5  a1globalid  u  1579078860000             NaN       NaN          NaN               NaN                   NaN              NaN                    NaN         NaN                      NaN            \n",
      "6  a1globalid  u  1579163400000             NaN       NaN          NaN               NaN                   NaN              NaN                    NaN         NaN                      NaN          c2\n",
      "\n",
      "Cards DataFrame:\n",
      "           id op             ts data.card_id data.card_number  data.credit_used  data.monthly_limit data.status set.status  set.credit_used\n",
      "0  c1globalid  c  1577926800000           c1         11112222               0.0             30000.0     PENDING        NaN              NaN\n",
      "1  c1globalid  u  1578159000000          NaN              NaN               NaN                 NaN         NaN     ACTIVE              NaN\n",
      "2  c1globalid  u  1578313800000          NaN              NaN               NaN                 NaN         NaN        NaN          12000.0\n",
      "3  c1globalid  u  1578420000000          NaN              NaN               NaN                 NaN         NaN        NaN          19000.0\n",
      "4  c1globalid  u  1578654000000          NaN              NaN               NaN                 NaN         NaN        NaN              0.0\n",
      "5  c1globalid  u  1579078800000          NaN              NaN               NaN                 NaN         NaN     CLOSED              NaN\n",
      "6  c2globalid  c  1579163400000           c2         12123434               0.0             70000.0     PENDING        NaN              NaN\n",
      "7  c2globalid  u  1579298400000          NaN              NaN               NaN                 NaN         NaN     ACTIVE              NaN\n",
      "8  c2globalid  u  1579361400000          NaN              NaN               NaN                 NaN         NaN        NaN          37000.0\n",
      "\n",
      "Savings Accounts DataFrame:\n",
      "            id op             ts data.savings_account_id  data.balance  data.interest_rate_percent data.status  set.balance  set.interest_rate_percent\n",
      "0  sa1globalid  c  1577890800000                     sa1           0.0                         1.5      ACTIVE          NaN                        NaN\n",
      "1  sa1globalid  u  1577955600000                     NaN           NaN                         NaN         NaN      15000.0                        NaN\n",
      "2  sa1globalid  u  1578159060000                     NaN           NaN                         NaN         NaN          NaN                        3.0\n",
      "3  sa1globalid  u  1578648600000                     NaN           NaN                         NaN         NaN      40000.0                        NaN\n",
      "4  sa1globalid  u  1578654000000                     NaN           NaN                         NaN         NaN      21000.0                        NaN\n",
      "5  sa1globalid  u  1579078860000                     NaN           NaN                         NaN         NaN          NaN                        1.5\n",
      "6  sa1globalid  u  1579298460000                     NaN           NaN                         NaN         NaN          NaN                        4.0\n",
      "7  sa1globalid  u  1579505400000                     NaN           NaN                         NaN         NaN      33000.0                        NaN\n"
     ]
    }
   ],
   "source": [
    "accounts = load_json_files(\"../data/accounts\")\n",
    "cards = load_json_files(\"../data/cards\")\n",
    "savings_accounts = load_json_files(\"../data/savings_accounts\")\n",
    "\n",
    "accounts_df = load_json_list_to_df(accounts)\n",
    "cards_df = load_json_list_to_df(cards)\n",
    "savings_df = load_json_list_to_df(savings_accounts)\n",
    "\n",
    "print(\"Accounts DataFrame:\")\n",
    "print(accounts_df.to_string())\n",
    "print(\"\\nCards DataFrame:\")\n",
    "print(cards_df.to_string())\n",
    "print(\"\\nSavings Accounts DataFrame:\")\n",
    "print(savings_df.to_string())"
   ]
  },
  {
   "cell_type": "markdown",
   "id": "9b9b903e",
   "metadata": {},
   "source": [
    "### 2. Visualize the complete historical table view of the denormalized joined table in stdout by joining these three tables (hint: the join key lies in the resources section, please read carefully)"
   ]
  },
  {
   "cell_type": "code",
   "execution_count": 153,
   "id": "5b5bd82a",
   "metadata": {},
   "outputs": [
    {
     "name": "stdout",
     "output_type": "stream",
     "text": [
      "Complete Historical Table View - Denormalized\n",
      "             id op             ts data.account_id data.name data.address data.phone_number            data.email set.phone_number set.savings_account_id set.address                set.email set.card_id  seq    source data.card_id data.card_number  data.credit_used  data.monthly_limit data.status set.status  set.credit_used data.savings_account_id  data.balance  data.interest_rate_percent  set.balance  set.interest_rate_percent\n",
      "0    a1globalid  c  1577863800000              a1   Anthony     New York          12345678  anthony@somebank.com              NaN                    NaN         NaN                      NaN         NaN    0  accounts          NaN              NaN               NaN                 NaN         NaN        NaN              NaN                     NaN           NaN                         NaN          NaN                        NaN\n",
      "1    a1globalid  u  1577865600000             NaN       NaN          NaN               NaN                   NaN         87654321                    NaN         NaN                      NaN         NaN    1  accounts          NaN              NaN               NaN                 NaN         NaN        NaN              NaN                     NaN           NaN                         NaN          NaN                        NaN\n",
      "2   sa1globalid  c  1577890800000             NaN       NaN          NaN               NaN                   NaN              NaN                    NaN         NaN                      NaN         NaN    0   savings          NaN              NaN               NaN                 NaN      ACTIVE        NaN              NaN                     sa1           0.0                         1.5          NaN                        NaN\n",
      "3    a1globalid  u  1577890800000             NaN       NaN          NaN               NaN                   NaN              NaN                    sa1         NaN                      NaN         NaN    2  accounts          NaN              NaN               NaN                 NaN         NaN        NaN              NaN                     NaN           NaN                         NaN          NaN                        NaN\n",
      "4    a1globalid  u  1577894400000             NaN       NaN          NaN               NaN                   NaN              NaN                    NaN     Jakarta  anthony@anotherbank.com         NaN    3  accounts          NaN              NaN               NaN                 NaN         NaN        NaN              NaN                     NaN           NaN                         NaN          NaN                        NaN\n",
      "5    c1globalid  c  1577926800000             NaN       NaN          NaN               NaN                   NaN              NaN                    NaN         NaN                      NaN         NaN    0     cards           c1         11112222               0.0             30000.0     PENDING        NaN              NaN                     NaN           NaN                         NaN          NaN                        NaN\n",
      "6    a1globalid  u  1577926800000             NaN       NaN          NaN               NaN                   NaN              NaN                    NaN         NaN                      NaN          c1    4  accounts          NaN              NaN               NaN                 NaN         NaN        NaN              NaN                     NaN           NaN                         NaN          NaN                        NaN\n",
      "7   sa1globalid  u  1577955600000             NaN       NaN          NaN               NaN                   NaN              NaN                    NaN         NaN                      NaN         NaN    1   savings          NaN              NaN               NaN                 NaN         NaN        NaN              NaN                     NaN           NaN                         NaN      15000.0                        NaN\n",
      "8    c1globalid  u  1578159000000             NaN       NaN          NaN               NaN                   NaN              NaN                    NaN         NaN                      NaN         NaN    1     cards          NaN              NaN               NaN                 NaN         NaN     ACTIVE              NaN                     NaN           NaN                         NaN          NaN                        NaN\n",
      "9   sa1globalid  u  1578159060000             NaN       NaN          NaN               NaN                   NaN              NaN                    NaN         NaN                      NaN         NaN    2   savings          NaN              NaN               NaN                 NaN         NaN        NaN              NaN                     NaN           NaN                         NaN          NaN                        3.0\n",
      "10   c1globalid  u  1578313800000             NaN       NaN          NaN               NaN                   NaN              NaN                    NaN         NaN                      NaN         NaN    2     cards          NaN              NaN               NaN                 NaN         NaN        NaN          12000.0                     NaN           NaN                         NaN          NaN                        NaN\n",
      "11   c1globalid  u  1578420000000             NaN       NaN          NaN               NaN                   NaN              NaN                    NaN         NaN                      NaN         NaN    3     cards          NaN              NaN               NaN                 NaN         NaN        NaN          19000.0                     NaN           NaN                         NaN          NaN                        NaN\n",
      "12  sa1globalid  u  1578648600000             NaN       NaN          NaN               NaN                   NaN              NaN                    NaN         NaN                      NaN         NaN    3   savings          NaN              NaN               NaN                 NaN         NaN        NaN              NaN                     NaN           NaN                         NaN      40000.0                        NaN\n",
      "13   c1globalid  u  1578654000000             NaN       NaN          NaN               NaN                   NaN              NaN                    NaN         NaN                      NaN         NaN    4     cards          NaN              NaN               NaN                 NaN         NaN        NaN              0.0                     NaN           NaN                         NaN          NaN                        NaN\n",
      "14  sa1globalid  u  1578654000000             NaN       NaN          NaN               NaN                   NaN              NaN                    NaN         NaN                      NaN         NaN    4   savings          NaN              NaN               NaN                 NaN         NaN        NaN              NaN                     NaN           NaN                         NaN      21000.0                        NaN\n",
      "15   c1globalid  u  1579078800000             NaN       NaN          NaN               NaN                   NaN              NaN                    NaN         NaN                      NaN         NaN    5     cards          NaN              NaN               NaN                 NaN         NaN     CLOSED              NaN                     NaN           NaN                         NaN          NaN                        NaN\n",
      "16   a1globalid  u  1579078860000             NaN       NaN          NaN               NaN                   NaN              NaN                    NaN         NaN                      NaN                5  accounts          NaN              NaN               NaN                 NaN         NaN        NaN              NaN                     NaN           NaN                         NaN          NaN                        NaN\n",
      "17  sa1globalid  u  1579078860000             NaN       NaN          NaN               NaN                   NaN              NaN                    NaN         NaN                      NaN         NaN    5   savings          NaN              NaN               NaN                 NaN         NaN        NaN              NaN                     NaN           NaN                         NaN          NaN                        1.5\n",
      "18   a1globalid  u  1579163400000             NaN       NaN          NaN               NaN                   NaN              NaN                    NaN         NaN                      NaN          c2    6  accounts          NaN              NaN               NaN                 NaN         NaN        NaN              NaN                     NaN           NaN                         NaN          NaN                        NaN\n",
      "19   c2globalid  c  1579163400000             NaN       NaN          NaN               NaN                   NaN              NaN                    NaN         NaN                      NaN         NaN    6     cards           c2         12123434               0.0             70000.0     PENDING        NaN              NaN                     NaN           NaN                         NaN          NaN                        NaN\n",
      "20   c2globalid  u  1579298400000             NaN       NaN          NaN               NaN                   NaN              NaN                    NaN         NaN                      NaN         NaN    7     cards          NaN              NaN               NaN                 NaN         NaN     ACTIVE              NaN                     NaN           NaN                         NaN          NaN                        NaN\n",
      "21  sa1globalid  u  1579298460000             NaN       NaN          NaN               NaN                   NaN              NaN                    NaN         NaN                      NaN         NaN    6   savings          NaN              NaN               NaN                 NaN         NaN        NaN              NaN                     NaN           NaN                         NaN          NaN                        4.0\n",
      "22   c2globalid  u  1579361400000             NaN       NaN          NaN               NaN                   NaN              NaN                    NaN         NaN                      NaN         NaN    8     cards          NaN              NaN               NaN                 NaN         NaN        NaN          37000.0                     NaN           NaN                         NaN          NaN                        NaN\n",
      "23  sa1globalid  u  1579505400000             NaN       NaN          NaN               NaN                   NaN              NaN                    NaN         NaN                      NaN         NaN    7   savings          NaN              NaN               NaN                 NaN         NaN        NaN              NaN                     NaN           NaN                         NaN      33000.0                        NaN\n"
     ]
    }
   ],
   "source": [
    "def merge_cdc_dataframes_with_sequence(accounts_df, cards_df, savings_df):\n",
    "\n",
    "    # Step 1: Buat copy untuk tidak memodifikasi original\n",
    "    accounts = accounts_df.copy()\n",
    "    cards = cards_df.copy()\n",
    "    savings = savings_df.copy()\n",
    "    \n",
    "    # Step 2: Tambahkan sequence number ke setiap DataFrame\n",
    "    # Sequence ini akan menjaga urutan original dalam setiap source\n",
    "    accounts['seq'] = range(len(accounts))\n",
    "    cards['seq'] = range(len(cards))\n",
    "    savings['seq'] = range(len(savings))\n",
    "    \n",
    "    # Step 3: Tambahkan source identifier untuk tracking\n",
    "    accounts['source'] = 'accounts'\n",
    "    cards['source'] = 'cards'\n",
    "    savings['source'] = 'savings'\n",
    "    \n",
    "    # Step 4: Gabungkan semua DataFrame\n",
    "    combined_df = pd.concat(\n",
    "        [accounts, cards, savings], \n",
    "        ignore_index=True\n",
    "    )\n",
    "    \n",
    "    # Step 5: Sort berdasarkan timestamp, kemudian sequence\n",
    "    # Gunakan stable sort untuk mempertahankan urutan relatif\n",
    "    final_df = combined_df.sort_values(\n",
    "        by=['ts', 'seq'],\n",
    "        ascending=[True, True],\n",
    "        kind='stable'  # Stable sort algorithm\n",
    "    ).reset_index(drop=True)\n",
    "    \n",
    "    return final_df\n",
    "\n",
    "result_df = merge_cdc_dataframes_with_sequence(accounts_df, cards_df, savings_df)\n",
    "print(\"Complete Historical Table View - Denormalized\")\n",
    "print(result_df.head(50).to_string())\n"
   ]
  },
  {
   "cell_type": "markdown",
   "id": "635df786",
   "metadata": {},
   "source": [
    "### 3.From result from point no 2, discuss how many transactions has been made, when did each of them occur, and how much the value of each transaction? Transaction is defined as activity which change the balance of the savings account or credit used of the card"
   ]
  },
  {
   "cell_type": "markdown",
   "id": "22bdc46f",
   "metadata": {},
   "source": [
    "| No | Timestamp       | Jenis   | Nilai Transaksi |\n",
    "|----|-----------------|---------|-----------------|\n",
    "| 1  | 1577955600000   | Savings | 15000.0         |\n",
    "| 2  | 1578313800000   | Card    | 12000.0         |\n",
    "| 3  | 1578420000000   | Card    | 19000.0         |\n",
    "| 4  | 1578648600000   | Savings | 40000.0         |\n",
    "| 5  | 1578654000000   | Card    | 0.0             |\n",
    "| 6  | 1578654000000   | Savings | 21000.0         |\n",
    "| 7  | 1579361400000   | Card    | 37000.0         |\n",
    "| 8  | 1579505400000   | Savings | 33000.0         |\n",
    "\n",
    "**Total transaksi: 8**"
   ]
  }
 ],
 "metadata": {
  "kernelspec": {
   "display_name": "Python (venv Warehousing)",
   "language": "python",
   "name": "venv"
  },
  "language_info": {
   "codemirror_mode": {
    "name": "ipython",
    "version": 3
   },
   "file_extension": ".py",
   "mimetype": "text/x-python",
   "name": "python",
   "nbconvert_exporter": "python",
   "pygments_lexer": "ipython3",
   "version": "3.10.7"
  }
 },
 "nbformat": 4,
 "nbformat_minor": 5
}
